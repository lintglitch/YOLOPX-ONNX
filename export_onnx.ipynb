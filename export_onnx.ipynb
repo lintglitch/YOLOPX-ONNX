{
 "cells": [
  {
   "cell_type": "code",
   "execution_count": null,
   "metadata": {},
   "outputs": [],
   "source": [
    "# download model weights\n",
    "!curl -L \"https://drive.usercontent.google.com/download?id=1dlwaElu0dQQdoEeJkuP2LKGx1TSCjE-z&confirm=xxx\" --output yolopx.pth"
   ]
  },
  {
   "cell_type": "code",
   "execution_count": 38,
   "metadata": {},
   "outputs": [],
   "source": [
    "PATH = \"yolopx.pth\"\n",
    "OUTPUT_PATH = \"yolopx.onnx\"\n",
    "\n",
    "import torch\n",
    "from lib.config import cfg\n",
    "from lib.models import get_net\n",
    "from lib.utils.utils import select_device\n",
    "\n",
    "# load model\n",
    "logger = None\n",
    "device = select_device(logger, '0')\n",
    "model = get_net(cfg)\n",
    "checkpoint = torch.load(PATH, map_location=device)\n",
    "model.load_state_dict(checkpoint['state_dict'])\n",
    "model = model.to(device)"
   ]
  },
  {
   "cell_type": "code",
   "execution_count": null,
   "metadata": {},
   "outputs": [],
   "source": [
    "img_size = 640\n",
    "img = torch.zeros((1, 3, img_size, img_size), device=device, dtype=torch.float32)\n",
    "\n",
    "torch.onnx.export(\n",
    "    model,\n",
    "    img,\n",
    "    f = OUTPUT_PATH,\n",
    "    input_names = [\"input\"],\n",
    "    output_names = [\"det_out\", \"det_out_dim0\", \"det_out_dim1\", \"det_out_dim2\", \"drive_area_seg\", \"lane_line_seg\"],\n",
    "    dynamo = False # some issues with dynamo with this model\n",
    ")"
   ]
  },
  {
   "cell_type": "code",
   "execution_count": 40,
   "metadata": {},
   "outputs": [],
   "source": [
    "# check model\n",
    "import onnx\n",
    "model = onnx.load(OUTPUT_PATH)\n",
    "onnx.checker.check_model(model)"
   ]
  }
 ],
 "metadata": {
  "kernelspec": {
   "display_name": "default",
   "language": "python",
   "name": "python3"
  },
  "language_info": {
   "codemirror_mode": {
    "name": "ipython",
    "version": 3
   },
   "file_extension": ".py",
   "mimetype": "text/x-python",
   "name": "python",
   "nbconvert_exporter": "python",
   "pygments_lexer": "ipython3",
   "version": "3.13.2"
  }
 },
 "nbformat": 4,
 "nbformat_minor": 2
}
